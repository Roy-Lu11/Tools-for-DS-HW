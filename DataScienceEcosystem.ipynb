{
 "cells": [
  {
   "cell_type": "markdown",
   "id": "854d4cb5-a07a-41f9-b70b-d085f76c52cd",
   "metadata": {},
   "source": [
    "# Data Science Tools and Ecosystem"
   ]
  },
  {
   "cell_type": "markdown",
   "id": "0e5c3975-50a7-44ca-890d-928dee1b3c92",
   "metadata": {},
   "source": [
    "## Author\n",
    "Roy Lu"
   ]
  },
  {
   "cell_type": "markdown",
   "id": "309ef818-0b76-4db3-b310-bc4968fde345",
   "metadata": {},
   "source": [
    "## In this notebook, Data Science Tools and Ecosystem are summarized."
   ]
  },
  {
   "cell_type": "markdown",
   "id": "bdce1049-9a11-4056-8753-689bca60cf6a",
   "metadata": {},
   "source": [
    "# **Objectives**\n",
    "- List some DS languages\n",
    "- List some DS libraries\n",
    "- List some DS Tools"
   ]
  },
  {
   "cell_type": "markdown",
   "id": "b081a3d8-f084-4035-a79f-1bb94b2889da",
   "metadata": {},
   "source": [
    "## Some of the popular languages that Data Scientists use are:\n",
    "1. Python\n",
    "2. R\n",
    "3. SQL\n",
    "4. Julia"
   ]
  },
  {
   "cell_type": "markdown",
   "id": "8d1772c7-fb12-4b66-a63a-be03f3a4d219",
   "metadata": {},
   "source": [
    "## Some of the commonly used libraries used by Data Scientists include:\n",
    "1. Pandas\n",
    "2. Numpy\n",
    "3. Matplotlib\n",
    "4. Keras\n",
    "5. Tensorflow"
   ]
  },
  {
   "cell_type": "markdown",
   "id": "7c2f810a-0eaf-4222-bd65-3fed2a41512c",
   "metadata": {},
   "source": [
    "## Table for Data Science Tools\n",
    "| Data Science Tools| \n",
    "| -------------|\n",
    "| Jupyter Notebooks|\n",
    "| Pycharm |\n",
    "| R Studio|"
   ]
  },
  {
   "cell_type": "markdown",
   "id": "6d4d0def-12ae-4034-be9d-da28ddfd9c36",
   "metadata": {},
   "source": [
    "### Below are a few examples of evaluating arithmetic expressions in Python:"
   ]
  },
  {
   "cell_type": "code",
   "execution_count": 6,
   "id": "0232955a-424d-4710-b900-136d8ca789f5",
   "metadata": {},
   "outputs": [
    {
     "data": {
      "text/html": [
       "17"
      ],
      "text/latex": [
       "17"
      ],
      "text/markdown": [
       "17"
      ],
      "text/plain": [
       "[1] 17"
      ]
     },
     "metadata": {},
     "output_type": "display_data"
    }
   ],
   "source": [
    "(3*4)+ 5\n",
    "# This a simple arithmetic expression to mutiply then add integers"
   ]
  },
  {
   "cell_type": "code",
   "execution_count": 7,
   "id": "77ed8712-56f2-40b0-95eb-d78e354908b9",
   "metadata": {},
   "outputs": [
    {
     "data": {
      "text/html": [
       "3.33333333333333"
      ],
      "text/latex": [
       "3.33333333333333"
      ],
      "text/markdown": [
       "3.33333333333333"
      ],
      "text/plain": [
       "[1] 3.333333"
      ]
     },
     "metadata": {},
     "output_type": "display_data"
    }
   ],
   "source": [
    "200/60\n",
    "# This will convert 200 minutes to hours by diving by 60"
   ]
  },
  {
   "cell_type": "code",
   "execution_count": null,
   "id": "a546b1d1-0cc7-479d-8aab-4138ef37a36d",
   "metadata": {},
   "outputs": [],
   "source": []
  }
 ],
 "metadata": {
  "kernelspec": {
   "display_name": "R [conda env:ToolsforDS]",
   "language": "R",
   "name": "conda-env-ToolsforDS-r"
  },
  "language_info": {
   "codemirror_mode": "r",
   "file_extension": ".r",
   "mimetype": "text/x-r-source",
   "name": "R",
   "pygments_lexer": "r",
   "version": "3.6.1"
  }
 },
 "nbformat": 4,
 "nbformat_minor": 5
}
